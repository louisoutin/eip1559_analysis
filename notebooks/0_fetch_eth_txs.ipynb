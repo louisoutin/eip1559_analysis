{
 "cells": [
  {
   "cell_type": "markdown",
   "id": "relative-volume",
   "metadata": {},
   "source": [
    "# Fetching Ethereum transactions\n",
    "\n",
    "This notebook will query the historical ethereum transactions from Google Big Query, transform it to a Dask DataFrame and save it to parquet format. \n",
    "\n",
    "Note: The queries are done month by month because when querying larger period, it hangs."
   ]
  },
  {
   "cell_type": "code",
   "execution_count": 1,
   "id": "connected-quick",
   "metadata": {},
   "outputs": [],
   "source": [
    "import os\n",
    "import pandas as pd\n",
    "from google.cloud import bigquery\n",
    "import dask.dataframe as dd\n",
    "from dask.distributed import Client, LocalCluster\n",
    "from pathlib import Path"
   ]
  },
  {
   "cell_type": "markdown",
   "id": "outdoor-smooth",
   "metadata": {},
   "source": [
    "## Configurations\n",
    "\n",
    "You can choose the range you want to query and save to disk."
   ]
  },
  {
   "cell_type": "code",
   "execution_count": 2,
   "id": "built-vector",
   "metadata": {},
   "outputs": [],
   "source": [
    "\n",
    "configs = {\n",
    "    \"RANGE\": {\n",
    "        \"START_DATE\": \"2019-01\",\n",
    "        \"END_DATE\": \"2021-03\"\n",
    "    },\n",
    "    \"PATHS\": {\n",
    "       \"BIG_QUERY_CREDENTIALS_PATH\": \"../credentials/gcp_cred.json\",\n",
    "    }\n",
    "}"
   ]
  },
  {
   "cell_type": "markdown",
   "id": "marine-participation",
   "metadata": {},
   "source": [
    "## Dask client"
   ]
  },
  {
   "cell_type": "code",
   "execution_count": 3,
   "id": "chinese-microphone",
   "metadata": {},
   "outputs": [
    {
     "data": {
      "text/html": [
       "<table style=\"border: 2px solid white;\">\n",
       "<tr>\n",
       "<td style=\"vertical-align: top; border: 0px solid white\">\n",
       "<h3 style=\"text-align: left;\">Client</h3>\n",
       "<ul style=\"text-align: left; list-style: none; margin: 0; padding: 0;\">\n",
       "  <li><b>Scheduler: </b>tcp://localhost:46363</li>\n",
       "  <li><b>Dashboard: </b><a href='http://localhost:46365/status' target='_blank'>http://localhost:46365/status</a></li>\n",
       "</ul>\n",
       "</td>\n",
       "<td style=\"vertical-align: top; border: 0px solid white\">\n",
       "<h3 style=\"text-align: left;\">Cluster</h3>\n",
       "<ul style=\"text-align: left; list-style:none; margin: 0; padding: 0;\">\n",
       "  <li><b>Workers: </b>5</li>\n",
       "  <li><b>Cores: </b>10</li>\n",
       "  <li><b>Memory: </b>40.00 GB</li>\n",
       "</ul>\n",
       "</td>\n",
       "</tr>\n",
       "</table>"
      ],
      "text/plain": [
       "<Client: 'tcp://192.168.12.6:46363' processes=5 threads=10, memory=40.00 GB>"
      ]
     },
     "execution_count": 3,
     "metadata": {},
     "output_type": "execute_result"
    }
   ],
   "source": [
    "# DEFAULT USAGE\n",
    "cluster = LocalCluster()\n",
    "client = Client(cluster)\n",
    "# USAGE WITH REMOTE CLUSTER\n",
    "# client = Client('127.0.0.1:46363')\n",
    "# client.restart()\n",
    "client"
   ]
  },
  {
   "cell_type": "code",
   "execution_count": 4,
   "id": "forced-nancy",
   "metadata": {},
   "outputs": [],
   "source": [
    "os.environ['GOOGLE_APPLICATION_CREDENTIALS'] = \"../credentials/gcp-cred.json\""
   ]
  },
  {
   "cell_type": "code",
   "execution_count": 5,
   "id": "mechanical-encyclopedia",
   "metadata": {},
   "outputs": [],
   "source": [
    "big_query_client = bigquery.Client()"
   ]
  },
  {
   "cell_type": "markdown",
   "id": "sweet-comment",
   "metadata": {},
   "source": [
    "## Big query"
   ]
  },
  {
   "cell_type": "code",
   "execution_count": 6,
   "id": "ordinary-director",
   "metadata": {},
   "outputs": [],
   "source": [
    "def fetch_eth_blocks(client: Client, start_date: str, end_date: str):\n",
    "    \n",
    "    sql = f\"\"\"\n",
    "    SELECT txs.block_timestamp, txs.block_number, txs.gas_price, txs.gas as gas\n",
    "    FROM `bigquery-public-data.crypto_ethereum.transactions` AS txs\n",
    "    WHERE DATE(txs.block_timestamp) >= DATE('{start_date}') and DATE(txs.block_timestamp) <= DATE('{end_date}')\n",
    "    ORDER BY txs.block_timestamp\n",
    "    \"\"\"\n",
    "    df = client.query(sql).to_dataframe()\n",
    "    df = df.set_index(\"block_number\")\n",
    "    return df"
   ]
  },
  {
   "cell_type": "code",
   "execution_count": 7,
   "id": "legendary-search",
   "metadata": {},
   "outputs": [
    {
     "name": "stdout",
     "output_type": "stream",
     "text": [
      "Fetching from 2020-08-01 to  2020-08-31 ...\n",
      "Fetching from 2020-09-01 to  2020-09-30 ...\n",
      "Fetching from 2020-10-01 to  2020-10-31 ...\n",
      "Fetching from 2020-11-01 to  2020-11-30 ...\n",
      "Fetching from 2020-12-01 to  2020-12-31 ...\n",
      "Fetching from 2021-01-01 to  2021-01-31 ...\n",
      "Fetching from 2021-02-01 to  2021-02-28 ...\n"
     ]
    }
   ],
   "source": [
    "starts = pd.date_range(configs[\"RANGE\"][\"START_DATE\"], configs[\"RANGE\"][\"END_DATE\"],\n",
    "              freq='MS').strftime(\"%Y-%m-%d\").tolist()\n",
    "\n",
    "ends = pd.date_range(configs[\"RANGE\"][\"START_DATE\"], configs[\"RANGE\"][\"END_DATE\"],\n",
    "              freq='M').strftime(\"%Y-%m-%d\").tolist()\n",
    "\n",
    "for i in range(len(ends)):\n",
    "    print(f\"Fetching from {starts[i]} to  {ends[i]} ...\")\n",
    "    df = fetch_eth_blocks(big_query_client, starts[i], ends[i])\n",
    "    ddf = dd.from_pandas(df, npartitions=10)\n",
    "    ddf.to_parquet(f'datasets/{starts[i]}_to_{ends[i]}_gas')"
   ]
  },
  {
   "cell_type": "code",
   "execution_count": 8,
   "id": "closing-helena",
   "metadata": {},
   "outputs": [],
   "source": [
    "datasets = []\n",
    "for p in sorted(Path(\"datasets\").iterdir()):\n",
    "    datasets.append(dd.read_parquet(p))\n",
    "ddf = dd.concat(datasets, axis=0)"
   ]
  },
  {
   "cell_type": "markdown",
   "id": "cognitive-outline",
   "metadata": {},
   "source": [
    "## Save to parquet files\n",
    "\n",
    "We choose 500 partitions here, you can change this value depending on your hardware"
   ]
  },
  {
   "cell_type": "code",
   "execution_count": 9,
   "id": "exterior-perry",
   "metadata": {},
   "outputs": [],
   "source": [
    "\n",
    "ddf = ddf.repartition(npartitions=500)\n",
    "ddf.to_parquet(f'datasets/{configs[\"RANGE\"][\"START_DATE\"]}_to_{configs[\"RANGE\"][\"END_DATE\"]}_gas')"
   ]
  },
  {
   "cell_type": "code",
   "execution_count": null,
   "id": "global-poison",
   "metadata": {},
   "outputs": [],
   "source": []
  }
 ],
 "metadata": {
  "kernelspec": {
   "display_name": "Python 3",
   "language": "python",
   "name": "python3"
  },
  "language_info": {
   "codemirror_mode": {
    "name": "ipython",
    "version": 3
   },
   "file_extension": ".py",
   "mimetype": "text/x-python",
   "name": "python",
   "nbconvert_exporter": "python",
   "pygments_lexer": "ipython3",
   "version": "3.8.5"
  },
  "varInspector": {
   "cols": {
    "lenName": 16,
    "lenType": 16,
    "lenVar": 40
   },
   "kernels_config": {
    "python": {
     "delete_cmd_postfix": "",
     "delete_cmd_prefix": "del ",
     "library": "var_list.py",
     "varRefreshCmd": "print(var_dic_list())"
    },
    "r": {
     "delete_cmd_postfix": ") ",
     "delete_cmd_prefix": "rm(",
     "library": "var_list.r",
     "varRefreshCmd": "cat(var_dic_list()) "
    }
   },
   "types_to_exclude": [
    "module",
    "function",
    "builtin_function_or_method",
    "instance",
    "_Feature"
   ],
   "window_display": false
  }
 },
 "nbformat": 4,
 "nbformat_minor": 5
}